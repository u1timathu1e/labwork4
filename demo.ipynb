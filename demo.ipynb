{
 "cells": [
  {
   "cell_type": "code",
   "execution_count": 1,
   "metadata": {},
   "outputs": [],
   "source": [
    "import pandas as pd\n",
    "import tensorflow as tf\n",
    "from tensorflow.keras import Sequential\n",
    "from tensorflow.keras.layers import Dense\n",
    "\n",
    "import numpy as np\n",
    "import json\n",
    "\n",
    "from sklearn.model_selection import train_test_split\n",
    "from sklearn.utils import shuffle\n",
    "from google.cloud import bigquery\n",
    "from witwidget.notebook.visualization import WitWidget, WitConfigBuilder"
   ]
  },
  {
   "cell_type": "code",
   "execution_count": 2,
   "metadata": {},
   "outputs": [
    {
     "data": {
      "text/html": [
       "<div>\n",
       "<style scoped>\n",
       "    .dataframe tbody tr th:only-of-type {\n",
       "        vertical-align: middle;\n",
       "    }\n",
       "\n",
       "    .dataframe tbody tr th {\n",
       "        vertical-align: top;\n",
       "    }\n",
       "\n",
       "    .dataframe thead th {\n",
       "        text-align: right;\n",
       "    }\n",
       "</style>\n",
       "<table border=\"1\" class=\"dataframe\">\n",
       "  <thead>\n",
       "    <tr style=\"text-align: right;\">\n",
       "      <th></th>\n",
       "      <th>weight_pounds</th>\n",
       "      <th>is_male</th>\n",
       "      <th>mother_age</th>\n",
       "      <th>plurality</th>\n",
       "      <th>gestation_weeks</th>\n",
       "    </tr>\n",
       "  </thead>\n",
       "  <tbody>\n",
       "    <tr>\n",
       "      <th>0</th>\n",
       "      <td>7.063611</td>\n",
       "      <td>True</td>\n",
       "      <td>32</td>\n",
       "      <td>1</td>\n",
       "      <td>37.0</td>\n",
       "    </tr>\n",
       "    <tr>\n",
       "      <th>1</th>\n",
       "      <td>4.687028</td>\n",
       "      <td>True</td>\n",
       "      <td>30</td>\n",
       "      <td>3</td>\n",
       "      <td>33.0</td>\n",
       "    </tr>\n",
       "    <tr>\n",
       "      <th>2</th>\n",
       "      <td>7.561856</td>\n",
       "      <td>True</td>\n",
       "      <td>20</td>\n",
       "      <td>1</td>\n",
       "      <td>39.0</td>\n",
       "    </tr>\n",
       "    <tr>\n",
       "      <th>3</th>\n",
       "      <td>7.561856</td>\n",
       "      <td>True</td>\n",
       "      <td>31</td>\n",
       "      <td>1</td>\n",
       "      <td>37.0</td>\n",
       "    </tr>\n",
       "    <tr>\n",
       "      <th>4</th>\n",
       "      <td>7.312733</td>\n",
       "      <td>True</td>\n",
       "      <td>32</td>\n",
       "      <td>1</td>\n",
       "      <td>40.0</td>\n",
       "    </tr>\n",
       "  </tbody>\n",
       "</table>\n",
       "</div>"
      ],
      "text/plain": [
       "   weight_pounds  is_male  mother_age  plurality  gestation_weeks\n",
       "0       7.063611     True          32          1             37.0\n",
       "1       4.687028     True          30          3             33.0\n",
       "2       7.561856     True          20          1             39.0\n",
       "3       7.561856     True          31          1             37.0\n",
       "4       7.312733     True          32          1             40.0"
      ]
     },
     "execution_count": 2,
     "metadata": {},
     "output_type": "execute_result"
    }
   ],
   "source": [
    "query=\"\"\"\n",
    "SELECT\n",
    "  weight_pounds,\n",
    "  is_male,\n",
    "  mother_age,\n",
    "  plurality,\n",
    "  gestation_weeks\n",
    "FROM\n",
    "  publicdata.samples.natality\n",
    "WHERE year > 2000\n",
    "LIMIT 10000\n",
    "\"\"\"\n",
    "df = bigquery.Client().query(query).to_dataframe()\n",
    "df.head()\n"
   ]
  },
  {
   "cell_type": "code",
   "execution_count": 3,
   "metadata": {},
   "outputs": [
    {
     "data": {
      "text/html": [
       "<div>\n",
       "<style scoped>\n",
       "    .dataframe tbody tr th:only-of-type {\n",
       "        vertical-align: middle;\n",
       "    }\n",
       "\n",
       "    .dataframe tbody tr th {\n",
       "        vertical-align: top;\n",
       "    }\n",
       "\n",
       "    .dataframe thead th {\n",
       "        text-align: right;\n",
       "    }\n",
       "</style>\n",
       "<table border=\"1\" class=\"dataframe\">\n",
       "  <thead>\n",
       "    <tr style=\"text-align: right;\">\n",
       "      <th></th>\n",
       "      <th>weight_pounds</th>\n",
       "      <th>mother_age</th>\n",
       "      <th>plurality</th>\n",
       "      <th>gestation_weeks</th>\n",
       "    </tr>\n",
       "  </thead>\n",
       "  <tbody>\n",
       "    <tr>\n",
       "      <th>count</th>\n",
       "      <td>9997.000000</td>\n",
       "      <td>10000.000000</td>\n",
       "      <td>10000.000000</td>\n",
       "      <td>9886.000000</td>\n",
       "    </tr>\n",
       "    <tr>\n",
       "      <th>mean</th>\n",
       "      <td>7.303938</td>\n",
       "      <td>27.226500</td>\n",
       "      <td>1.033500</td>\n",
       "      <td>38.700890</td>\n",
       "    </tr>\n",
       "    <tr>\n",
       "      <th>std</th>\n",
       "      <td>1.313289</td>\n",
       "      <td>6.194646</td>\n",
       "      <td>0.192825</td>\n",
       "      <td>2.538734</td>\n",
       "    </tr>\n",
       "    <tr>\n",
       "      <th>min</th>\n",
       "      <td>0.595248</td>\n",
       "      <td>13.000000</td>\n",
       "      <td>1.000000</td>\n",
       "      <td>18.000000</td>\n",
       "    </tr>\n",
       "    <tr>\n",
       "      <th>25%</th>\n",
       "      <td>6.624891</td>\n",
       "      <td>22.000000</td>\n",
       "      <td>1.000000</td>\n",
       "      <td>38.000000</td>\n",
       "    </tr>\n",
       "    <tr>\n",
       "      <th>50%</th>\n",
       "      <td>7.374463</td>\n",
       "      <td>27.000000</td>\n",
       "      <td>1.000000</td>\n",
       "      <td>39.000000</td>\n",
       "    </tr>\n",
       "    <tr>\n",
       "      <th>75%</th>\n",
       "      <td>8.126239</td>\n",
       "      <td>32.000000</td>\n",
       "      <td>1.000000</td>\n",
       "      <td>40.000000</td>\n",
       "    </tr>\n",
       "    <tr>\n",
       "      <th>max</th>\n",
       "      <td>12.625874</td>\n",
       "      <td>52.000000</td>\n",
       "      <td>4.000000</td>\n",
       "      <td>47.000000</td>\n",
       "    </tr>\n",
       "  </tbody>\n",
       "</table>\n",
       "</div>"
      ],
      "text/plain": [
       "       weight_pounds    mother_age     plurality  gestation_weeks\n",
       "count    9997.000000  10000.000000  10000.000000      9886.000000\n",
       "mean        7.303938     27.226500      1.033500        38.700890\n",
       "std         1.313289      6.194646      0.192825         2.538734\n",
       "min         0.595248     13.000000      1.000000        18.000000\n",
       "25%         6.624891     22.000000      1.000000        38.000000\n",
       "50%         7.374463     27.000000      1.000000        39.000000\n",
       "75%         8.126239     32.000000      1.000000        40.000000\n",
       "max        12.625874     52.000000      4.000000        47.000000"
      ]
     },
     "execution_count": 3,
     "metadata": {},
     "output_type": "execute_result"
    }
   ],
   "source": [
    "df.describe()"
   ]
  },
  {
   "cell_type": "code",
   "execution_count": 4,
   "metadata": {},
   "outputs": [
    {
     "data": {
      "text/plain": [
       "True     5096\n",
       "False    4904\n",
       "Name: is_male, dtype: int64"
      ]
     },
     "execution_count": 4,
     "metadata": {},
     "output_type": "execute_result"
    }
   ],
   "source": [
    "df['is_male'].value_counts()"
   ]
  },
  {
   "cell_type": "code",
   "execution_count": 5,
   "metadata": {},
   "outputs": [],
   "source": [
    "df = df.dropna()\n",
    "df = shuffle(df, random_state=2)"
   ]
  },
  {
   "cell_type": "code",
   "execution_count": 6,
   "metadata": {},
   "outputs": [],
   "source": [
    "labels = df['weight_pounds']\n",
    "data = df.drop(columns=['weight_pounds'])\n",
    "data['is_male'] = data['is_male'].astype(int)"
   ]
  },
  {
   "cell_type": "code",
   "execution_count": 7,
   "metadata": {},
   "outputs": [],
   "source": [
    "x,y = data,labels\n",
    "x_train,x_test,y_train,y_test = train_test_split(x,y)\n"
   ]
  },
  {
   "cell_type": "code",
   "execution_count": 8,
   "metadata": {},
   "outputs": [],
   "source": [
    "model = Sequential([\n",
    "    Dense(64, activation='relu', input_shape=(len(x_train.iloc[0]),)),\n",
    "    Dense(32, activation='relu'),\n",
    "    Dense(1)]\n",
    ")"
   ]
  },
  {
   "cell_type": "code",
   "execution_count": 9,
   "metadata": {},
   "outputs": [],
   "source": [
    "model.compile(optimizer=tf.keras.optimizers.RMSprop(),\n",
    "              loss=tf.keras.losses.MeanSquaredError(),\n",
    "              metrics=['mae', 'mse'])"
   ]
  },
  {
   "cell_type": "code",
   "execution_count": 10,
   "metadata": {},
   "outputs": [
    {
     "name": "stdout",
     "output_type": "stream",
     "text": [
      "Train on 6671 samples, validate on 742 samples\n",
      "Epoch 1/10\n",
      "6671/6671 [==============================] - 2s 228us/sample - loss: 5.0101 - mae: 1.3045 - mse: 5.0101 - val_loss: 1.4319 - val_mae: 0.9329 - val_mse: 1.4319\n",
      "Epoch 2/10\n",
      "6671/6671 [==============================] - 1s 133us/sample - loss: 1.4712 - mae: 0.9497 - mse: 1.4712 - val_loss: 1.6627 - val_mae: 1.0160 - val_mse: 1.6627\n",
      "Epoch 3/10\n",
      "6671/6671 [==============================] - 1s 108us/sample - loss: 1.4064 - mae: 0.9288 - mse: 1.4064 - val_loss: 1.5784 - val_mae: 0.9866 - val_mse: 1.5784\n",
      "Epoch 4/10\n",
      "6671/6671 [==============================] - 1s 119us/sample - loss: 1.3967 - mae: 0.9211 - mse: 1.3967 - val_loss: 1.3445 - val_mae: 0.9051 - val_mse: 1.3445\n",
      "Epoch 5/10\n",
      "6671/6671 [==============================] - 1s 116us/sample - loss: 1.3665 - mae: 0.9113 - mse: 1.3665 - val_loss: 1.3703 - val_mae: 0.9156 - val_mse: 1.3703\n",
      "Epoch 6/10\n",
      "6671/6671 [==============================] - 1s 112us/sample - loss: 1.3396 - mae: 0.9026 - mse: 1.3396 - val_loss: 1.2789 - val_mae: 0.8805 - val_mse: 1.2789\n",
      "Epoch 7/10\n",
      "6671/6671 [==============================] - 1s 111us/sample - loss: 1.2984 - mae: 0.8899 - mse: 1.2984 - val_loss: 1.4155 - val_mae: 0.9336 - val_mse: 1.4155\n",
      "Epoch 8/10\n",
      "6671/6671 [==============================] - 1s 107us/sample - loss: 1.2922 - mae: 0.8832 - mse: 1.2922 - val_loss: 1.6363 - val_mae: 1.0149 - val_mse: 1.6363\n",
      "Epoch 9/10\n",
      "6671/6671 [==============================] - 1s 124us/sample - loss: 1.2784 - mae: 0.8823 - mse: 1.2784 - val_loss: 1.3195 - val_mae: 0.8963 - val_mse: 1.3195\n",
      "Epoch 10/10\n",
      "6671/6671 [==============================] - 1s 119us/sample - loss: 1.2657 - mae: 0.8744 - mse: 1.2657 - val_loss: 1.7818 - val_mae: 1.0590 - val_mse: 1.7818\n"
     ]
    },
    {
     "data": {
      "text/plain": [
       "<tensorflow.python.keras.callbacks.History at 0x7fa179e49890>"
      ]
     },
     "execution_count": 10,
     "metadata": {},
     "output_type": "execute_result"
    }
   ],
   "source": [
    "model.fit(x_train, y_train, epochs=10, validation_split=0.1)"
   ]
  },
  {
   "cell_type": "code",
   "execution_count": 11,
   "metadata": {},
   "outputs": [],
   "source": [
    "num_examples = 10\n",
    "predictions = model.predict(x_test[:num_examples])"
   ]
  },
  {
   "cell_type": "code",
   "execution_count": 12,
   "metadata": {},
   "outputs": [
    {
     "name": "stdout",
     "output_type": "stream",
     "text": [
      "Predicted val:  6.5682507\n",
      "Actual val:  8.3114272774\n",
      "\n",
      "Predicted val:  6.70249\n",
      "Actual val:  7.936641432\n",
      "\n",
      "Predicted val:  5.7514997\n",
      "Actual val:  6.2501051276999995\n",
      "\n",
      "Predicted val:  6.3790154\n",
      "Actual val:  8.313631900019999\n",
      "\n",
      "Predicted val:  6.8865647\n",
      "Actual val:  6.4374980503999994\n",
      "\n",
      "Predicted val:  7.0335827\n",
      "Actual val:  6.88062719702\n",
      "\n",
      "Predicted val:  6.3601785\n",
      "Actual val:  7.1870697412\n",
      "\n",
      "Predicted val:  7.534616\n",
      "Actual val:  8.1130112416\n",
      "\n",
      "Predicted val:  6.6122284\n",
      "Actual val:  7.43839671988\n",
      "\n",
      "Predicted val:  6.140792\n",
      "Actual val:  6.75055446244\n",
      "\n"
     ]
    }
   ],
   "source": [
    "for i in range(num_examples):\n",
    "    print('Predicted val: ', predictions[i][0])\n",
    "    print('Actual val: ',y_test.iloc[i])\n",
    "    print()"
   ]
  },
  {
   "cell_type": "code",
   "execution_count": 13,
   "metadata": {},
   "outputs": [],
   "source": [
    "wit_data = pd.concat([x_test, y_test], axis=1)"
   ]
  },
  {
   "cell_type": "code",
   "execution_count": 14,
   "metadata": {},
   "outputs": [],
   "source": [
    "def custom_predict(examples_to_infer):\n",
    "    preds = model.predict(examples_to_infer)\n",
    "    return preds"
   ]
  },
  {
   "cell_type": "code",
   "execution_count": 15,
   "metadata": {},
   "outputs": [
    {
     "data": {
      "text/html": [
       "<style>.container { width:100% !important; }</style>"
      ],
      "text/plain": [
       "<IPython.core.display.HTML object>"
      ]
     },
     "metadata": {},
     "output_type": "display_data"
    },
    {
     "data": {
      "application/vnd.jupyter.widget-view+json": {
       "model_id": "70a1c47319f046c5a55a64bc0664e332",
       "version_major": 2,
       "version_minor": 0
      },
      "text/plain": [
       "WitWidget(config={'model_type': 'regression', 'label_vocab': [], 'feature_names': ['is_male', 'mother_age', 'p…"
      ]
     },
     "metadata": {},
     "output_type": "display_data"
    }
   ],
   "source": [
    "config_builder = (WitConfigBuilder(wit_data[:500].values.tolist(), data.columns.tolist() + ['weight_pounds'])\n",
    "  .set_custom_predict_fn(custom_predict)\n",
    "  .set_target_feature('weight_pounds')\n",
    "  .set_model_type('regression'))\n",
    "WitWidget(config_builder, height=800)"
   ]
  },
  {
   "cell_type": "code",
   "execution_count": null,
   "metadata": {},
   "outputs": [],
   "source": []
  }
 ],
 "metadata": {
  "environment": {
   "name": "tf2-gpu.2-1.m59",
   "type": "gcloud",
   "uri": "gcr.io/deeplearning-platform-release/tf2-gpu.2-1:m59"
  },
  "kernelspec": {
   "display_name": "Python 3",
   "language": "python",
   "name": "python3"
  },
  "language_info": {
   "codemirror_mode": {
    "name": "ipython",
    "version": 3
   },
   "file_extension": ".py",
   "mimetype": "text/x-python",
   "name": "python",
   "nbconvert_exporter": "python",
   "pygments_lexer": "ipython3",
   "version": "3.7.8"
  }
 },
 "nbformat": 4,
 "nbformat_minor": 4
}
