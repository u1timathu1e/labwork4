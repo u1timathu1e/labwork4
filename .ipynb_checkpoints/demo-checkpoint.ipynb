{
 "cells": [],
 "metadata": {
  "environment": {
   "name": "tf2-gpu.2-1.m59",
   "type": "gcloud",
   "uri": "gcr.io/deeplearning-platform-release/tf2-gpu.2-1:m59"
  }
 },
 "nbformat": 4,
 "nbformat_minor": 4
}
